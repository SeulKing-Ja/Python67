{
  "cells": [
    {
      "cell_type": "markdown",
      "metadata": {
        "colab_type": "text",
        "id": "view-in-github"
      },
      "source": [
        "<a href=\"https://colab.research.google.com/github/SeulKing-Ja/Python67/blob/main/Lab6.ipynb\" target=\"_parent\"><img src=\"https://colab.research.google.com/assets/colab-badge.svg\" alt=\"Open In Colab\"/></a>"
      ]
    },
    {
      "cell_type": "markdown",
      "metadata": {
        "id": "g1jKRrPZdrD9"
      },
      "source": [
        "Ex. 6.1 ให้เขียนฟังก์ชันชื่อ test_ pangram เพื่อตรวจสอบว่า String ที่รับเข้ามาเป็น pangram หรือไม่ โดย pangram คือ string ที่ประกอบด้วยตัวอักษรทุกตัวในภาษาอังกฤษ (ต้องมีอักษรแต่ละตัวปรากฏอย่างน้อย 1 ครั้ง) เช่น\n",
        "The quick brown fox jumps over the lazy dog\n",
        "รับข้อมูลเป็น string และ return เป็น True หรือ False"
      ]
    },
    {
      "cell_type": "code",
      "execution_count": null,
      "metadata": {
        "colab": {
          "base_uri": "https://localhost:8080/"
        },
        "id": "oc_mt8z2dluv",
        "outputId": "6cea2fa6-9b0e-4c1f-d2dd-6153d24c0826"
      },
      "outputs": [],
      "source": [
        "def test_pangram(str1):\n",
        "  alpha = 'abcdefghijklmnopqrstuvwxyz'\n",
        "  str1 = str1.lower()\n",
        "  for i in alpha:\n",
        "    if i not in str1:\n",
        "      return False\n",
        "  return True\n",
        "  \n",
        "test_pangram(\"The quick brown fox jumps over the lazy dog\")\n"
      ]
    },
    {
      "cell_type": "markdown",
      "metadata": {
        "id": "jsFdK2rreKku"
      },
      "source": [
        "Ex 6.2 จงเขียน โปรแกรมที่รวมผลลัพธ์ ของตัวเลขที่อยู่ใน List โดยกำหนดให้ฟังก์ชัน ชื่อ find_sum(n_list,n) โดย n_list เป็น List ของตัวเลขที่มีความยาว n โดยให้เขียนในแบบ Recursion\n"
      ]
    },
    {
      "cell_type": "code",
      "execution_count": 40,
      "metadata": {
        "id": "SWhMgyAc0uSI"
      },
      "outputs": [
        {
          "data": {
            "text/plain": [
              "15"
            ]
          },
          "execution_count": 40,
          "metadata": {},
          "output_type": "execute_result"
        }
      ],
      "source": [
        "def find_sum(n_list,n):\n",
        "  if n == 0:\n",
        "    for i in n_list:\n",
        "      res = i\n",
        "    return res\n",
        "  else:\n",
        "    if len(n_list) > 1:\n",
        "      n_list[0] = n_list[0]+n_list[1]\n",
        "      n_list.pop(1)\n",
        "    return find_sum(n_list, n-1)\n",
        "\n",
        "\n",
        "find_sum([1,2,3,4,5],5)"
      ]
    },
    {
      "cell_type": "markdown",
      "metadata": {
        "id": "S9FRT-zz05-A"
      },
      "source": [
        "Ex 6.3 กำหนดให้ List x เก็บ String และตัวแปร c เก็บตัวอักษร\n",
        "ให้สร้าง List d ที่เก็บจำนวนครั้งที่ตัวอักษรใน c ปรากฏในแต่ละ String ของ List x โดยใช้ List comprehension\n",
        "\n",
        "- เช่น x = [‘abba’, ‘babana’, ‘ann’]; c = ‘a’\n",
        "- จะได้ d = [2, 3, 1]\n",
        "\n",
        "ให้เขียนในฟังก์ชัน count_char_in_string(x,c) แล้ว return เป็น List คำตอบ"
      ]
    },
    {
      "cell_type": "code",
      "execution_count": 29,
      "metadata": {
        "id": "yQZQFVa01JPs"
      },
      "outputs": [
        {
          "name": "stdout",
          "output_type": "stream",
          "text": [
            "[2, 3, 1]\n",
            "[1, 3, 0]\n",
            "[0, 0, 0]\n",
            "[1, 2, 1]\n",
            "[0, 1, 0]\n",
            "[0, 1, 0]\n"
          ]
        }
      ],
      "source": [
        "def count_char_in_string(x,c):\n",
        "  d = [i.count(c) for i in x]\n",
        "  # for i in x:\n",
        "  #   d.append(i.count(c))\n",
        "  return d\n",
        "\n",
        "print(count_char_in_string(['abba', 'babana', 'ann'],'a')) #=> [2, 3, 1]\n",
        "print(count_char_in_string(['apple', 'banana', 'cherry'],'a')) #=> [1, 3, 0]\n",
        "print(count_char_in_string(['dog', 'cat', 'fish'],'z')) #=> [0, 0, 0]\n",
        "print(count_char_in_string(['abc', 'bcb', 'cab'],'b')) #=> [1, 2, 1]\n",
        "print(count_char_in_string(['', 'a', ''],'a')) #=> [0, 1, 0]\n",
        "print(count_char_in_string(['@home', '#hash', 'space '],'#')) #=> [0, 1, 0]"
      ]
    },
    {
      "cell_type": "markdown",
      "metadata": {
        "id": "vRtEJLkP5MLT"
      },
      "source": [
        "Ex 6.4  กำหนดให้ List x เป็น List ของจำนวนเต็ม\n",
        "ให้เขียนโปรแกรมเพื่อลบจำนวนเต็มทุกตัวใน x ที่มีค่าเป็นลบ โดยใช้ List comprehension\n",
        "\n",
        "- เช่น x = [ [1, -3, 2], [-8, 5], [-1, -4, -3] ]\n",
        "- ได้คำตอบเป็น [ [1, 2], [5], [] ]\n",
        "\n",
        "ให้เขียนในฟังก์ชัน delete_minus(x) แล้ว return เป็น List คำตอบ\n",
        "Hint : ถ้าคิดไม่ออกให้ทดลองเขียนแบบปกติก่อน แล้วค่อยลดรูป\n"
      ]
    },
    {
      "cell_type": "code",
      "execution_count": 52,
      "metadata": {
        "id": "SDA5CALo5WPK"
      },
      "outputs": [
        {
          "name": "stdout",
          "output_type": "stream",
          "text": [
            "[[1, 2], [5], []]\n",
            "[[], [3, 4], [7]]\n",
            "[[10, 20], [30], [40]]\n",
            "[[1, 2, 3], [4, 5], [6]]\n",
            "[[], [], []]\n",
            "[[], [], []]\n"
          ]
        }
      ],
      "source": [
        "def delete_minus(x):\n",
        "  new = [[v for v in e if v > 0] for i,e in enumerate(x)]\n",
        "  return new\n",
        "  # for i,v in enumerate(x):\n",
        "  #   for j in v:\n",
        "  #     if j < 0:\n",
        "  #       new.append(j)\n",
        "  #   for k in new:\n",
        "  #     if k in x[i]:\n",
        "  #       x[i].remove(k)\n",
        "\n",
        "\n",
        "print(delete_minus([[1, -3, 2], [-8, 5], [-1, -4, -3]]) )#=> [[1, 2], [5], []]\n",
        "print(delete_minus([[0, -1, -2], [3, 4, -5], [-6, 7]])) #=> [[0], [3, 4], [7]]\n",
        "print(delete_minus([[10, -10, 20], [-30, 30], [40, -40]])) #=> [[10, 20], [30], [40]]\n",
        "print(delete_minus([[1, 2, 3], [4, 5], [6]])) #=> [[1, 2, 3], [4, 5], [6]]\n",
        "print(delete_minus([[-1, -2, -3], [-4, -5], [-6]])) #=> [[], [], []]\n",
        "print(delete_minus([[-10, -20, -30], [-40, -50], [-60]])) #=> [[], [], []]"
      ]
    },
    {
      "cell_type": "code",
      "execution_count": 58,
      "metadata": {},
      "outputs": [
        {
          "name": "stdout",
          "output_type": "stream",
          "text": [
            "0 [[1, -3, 2], [-8, 5], [-1, -4, -3]]\n",
            "0 [1, -3, 2]\n",
            "1\n",
            "-3\n",
            "2\n",
            "1 [-8, 5]\n",
            "-8\n",
            "5\n",
            "2 [-1, -4, -3]\n",
            "-1\n",
            "-4\n",
            "-3\n",
            "1 [[1, -3, 2], [-8, 5], [-1, -4, -3]]\n",
            "0 [1, -3, 2]\n",
            "1\n",
            "-3\n",
            "2\n",
            "1 [-8, 5]\n",
            "-8\n",
            "5\n",
            "2 [-1, -4, -3]\n",
            "-1\n",
            "-4\n",
            "-3\n"
          ]
        }
      ],
      "source": [
        "lst = [[[1, -3, 2], [-8, 5], [-1, -4, -3]],[[1, -3, 2], [-8, 5], [-1, -4, -3]]]\n",
        "for i,e in enumerate(lst):\n",
        "    print(i,e)\n",
        "    for j,v in enumerate(e):\n",
        "        print(j,v)\n",
        "        for k in v:\n",
        "            print(k)"
      ]
    },
    {
      "cell_type": "markdown",
      "metadata": {
        "id": "nLUpu-7v6MCa"
      },
      "source": [
        "Ex 6.5 ให้เขียนโปรแกรมเพื่อรับข้อมูล 1 บรรทัด ที่ประกอบด้วยจำนวนเต็มหลายจำนวน (คั่นด้วยช่องว่าง)\n",
        "ให้ส่งคืนว่ามีจำนวนที่เป็นลบกี่จำนวน โดยใช้ List comprehension\n",
        "ให้เขียนในฟังก์ชัน count_minus(str) แล้ว return เป็นคำตอบ"
      ]
    },
    {
      "cell_type": "code",
      "execution_count": 64,
      "metadata": {
        "id": "BO0JESLu9cVj"
      },
      "outputs": [
        {
          "name": "stdout",
          "output_type": "stream",
          "text": [
            "2\n",
            "5\n",
            "0\n",
            "0\n",
            "5\n"
          ]
        }
      ],
      "source": [
        "# def count_minus(str1):\n",
        "#   str1 = str1.split(' ')\n",
        "#   res = [int(str1[i]) for i in range(len(str1)) if int(str1[i]) < 0]\n",
        "#   return len(res)\n",
        "  \n",
        "def count_minus(str1):\n",
        "  return len([True for i in str1 if i == '-'])\n",
        " \n",
        "\n",
        "print(count_minus(\"1 2 -3 4 -5\")) #=> 2\n",
        "print(count_minus(\"-1 -2 -3 -4 -5\")) #=> 5\n",
        "print(count_minus(\"1 2 3 4 5\")) #=> 0\n",
        "print(count_minus(\"0 0 0 0 0\")) #=> 0\n",
        "print(count_minus(\"-10 -20 -30 -40 -50\")) #=> 5"
      ]
    },
    {
      "cell_type": "markdown",
      "metadata": {
        "id": "18YUhkQ96Fiw"
      },
      "source": [
        "Ex 6.6 ให้เขียนโปรแกรมเพื่อรับ string 1 ตัว\n",
        "ให้ส่งคืนเฉพาะตัวอักษรที่เป็นภาษาอังกฤษ โดยใช้ List comprehension\n",
        "ให้เขียนในฟังก์ชัน only_english(string1) แล้ว return เป็นคำตอบเป็น string"
      ]
    },
    {
      "cell_type": "code",
      "execution_count": 36,
      "metadata": {
        "id": "QM_Vbz-k9shU"
      },
      "outputs": [
        {
          "name": "stdout",
          "output_type": "stream",
          "text": [
            "\"Hello World\"\n",
            "\"This is a test\"\n",
            "\"\"\n",
            "\"abcABC\"\n",
            "\"\"\n"
          ]
        }
      ],
      "source": [
        "def only_english(string1):\n",
        "  result = ''\n",
        "  res = ''.join([i for i in string1 if i.isalpha() or i == ' '])\n",
        "  # for i in string1:\n",
        "  #   if i.isalpha() or i == ' ':\n",
        "  #     res += i\n",
        "  return '\"' + res + '\"'\n",
        "\n",
        "print(only_english(\"Hello, World!\")) #=> \"Hello World\"\n",
        "print(only_english(\"This is a test.\")) #=> \"This is a test\"\n",
        "print(only_english(\"12345\")) #=> \"\"\n",
        "print(only_english(\"abcABC123\")) #=> \"abcABC\"\n",
        "print(only_english(\"!@#$%^&*()\")) #=> \"\""
      ]
    },
    {
      "cell_type": "markdown",
      "metadata": {
        "id": "S5dKtu4o96b-"
      },
      "source": [
        "Ex 6.7 กำหนดให้ list x และ y เป็น list ของจำนวนเต็ม โดยมีขนาดเท่ากัน\n",
        "ให้ return list ที่เป็นผลบวกของ list x และ y โดยใช้ list comprehension\n",
        "เขียนให้ function ชื่อ add2list(lst1,lst2)\n",
        "\n",
        "\n"
      ]
    },
    {
      "cell_type": "code",
      "execution_count": 27,
      "metadata": {
        "id": "L18pzqF5-AtR"
      },
      "outputs": [
        {
          "name": "stdout",
          "output_type": "stream",
          "text": [
            "[5, 7, 9]\n",
            "[0, 0, 0]\n",
            "[10, 20, 30]\n",
            "[10, 10, 10]\n",
            "[500, 700, 900]\n",
            "[7, 9, 11, 13, 15]\n"
          ]
        }
      ],
      "source": [
        "def add2list(lst1,lst2):\n",
        "  res = [lst1[i]+lst2[i] for i in range(len(lst1))]\n",
        "  # for i in range(len(lst1)):\n",
        "  #   res.append(lst1[i] + lst2[i])\n",
        "  return res\n",
        "\n",
        "print(add2list([1, 2, 3], [4, 5, 6])) #=> [5, 7, 9]\n",
        "print(add2list([-1, -2, -3], [1, 2, 3])) #=> [0, 0, 0]\n",
        "print(add2list([0, 0, 0], [10, 20, 30])) #=> [10, 20, 30]\n",
        "print(add2list([7, 8, 9], [3, 2, 1])) #=>[10, 10, 10]\n",
        "print(add2list([100, 200, 300], [400, 500, 600])) #=> [500, 700, 900]\n",
        "print(add2list([1, 2, 3, 4, 5], [6, 7, 8, 9, 10])) #=> [7, 9, 11, 13, 15]\n"
      ]
    },
    {
      "cell_type": "markdown",
      "metadata": {
        "id": "5HpBdNsU-4SW"
      },
      "source": [
        "1.\tกำหนดให้ m เป็น list ของ list ของ Integer ให้แปลง m ให้เป็น list ของ integer โดยใช้ List Comprehension โดยให้เขียนเป็น ฟังก์ชัน ชื่อ flatten_list(lst) และ return เป็น list คำตอบ\n",
        "- Input : [ [1, 2, 3], [4, 5, 6] ]\n",
        "- Output : [1, 2, 3, 4, 5, 6]\n"
      ]
    },
    {
      "cell_type": "code",
      "execution_count": null,
      "metadata": {
        "id": "nfKGEY7d--zX"
      },
      "outputs": [],
      "source": [
        "def flatten_list(lst):\n",
        "  res = []\n",
        "  for index, items in enumerate(lst):\n",
        "    for j in items:\n",
        "      res.append(j)\n",
        "  return res\n",
        "\n",
        "\n",
        "print(flatten_list([[1, 2, 3], [4, 5, 6]]))#=> [1, 2, 3, 4, 5, 6]\n",
        "print(flatten_list([[7, 8], [9, 10], [11, 12]])) #=> [7, 8, 9, 10, 11, 12]\n",
        "print(flatten_list([[0], [1], [2], [3]])) #=> [0, 1, 2, 3]\n",
        "print(flatten_list([[1, 1, 1], [2, 2], [3]])) #=> [1, 1, 1, 2, 2, 3]\n",
        "print(flatten_list([[5, 6, 7], [8], [9, 10]]))#=> [5, 6, 7, 8, 9, 10]\n"
      ]
    },
    {
      "cell_type": "markdown",
      "metadata": {
        "id": "_FXeyEnm_y8X"
      },
      "source": [
        "2.\tกำหนดให้ s เป็น list ของ Integer ให้เขียนโปรแกรม ตัดตัวเลขที่ซ้ำกันใน list ให้เหลือเพียงตัวเลขเดียว โดยใช้ list comprehension (ห้ามใช้ set) โดยมีขั้นตอนดังนี้\n",
        "-\tเรียงลำดับข้อมูลใน list\n",
        "-\tสร้าง list ใหม่ โดยนำข้อมูลใน list ตัวที่ติดกันมาพิจารณาจากซ้ายไปขวา หากค่าไม่เท่ากันให้นำไปใส่ใน list ใหม่\n",
        "-\tนำตัวขวาสุด (ตัวสุดท้าย) เพิ่มเข้าไปใน list ใหม่ ก็จะได้ s ที่ไม่มีตัวซ้ำ\n",
        "-\tโดยให้เขียนเป็นฟังก์ชัน ชื่อ remove_duplicate(s)\n",
        "\n",
        "- Input : [1, 2, 3, 3, 4, 5, 6]\n",
        "- Output : [1, 2, 3, 4, 5, 6]\n",
        "\n",
        "ห้ามใช้ sort"
      ]
    },
    {
      "cell_type": "code",
      "execution_count": null,
      "metadata": {
        "id": "iH8ceRWJ_5wq"
      },
      "outputs": [],
      "source": [
        "def remove_duplicate(s):\n",
        "  sortF(s)\n",
        "  res = [s[i] for i in range(len(s)) if s[i] not in s[:i]]\n",
        "  return res\n",
        "\n",
        "def sortF(s):\n",
        "  for i in range(len(s)):\n",
        "    for j in range(i+1, len(s)):\n",
        "      if s[i] > s[j]:\n",
        "        s[i], s[j] = s[j], s[i]\n",
        "  return s\n",
        "\n",
        "print(remove_duplicate([1, 2, 3, 3, 4, 5, 6]))# => [1, 2, 3, 4, 5, 6]\n",
        "print(remove_duplicate([5, 1, 3, 3, 2, 5, 1])) #=> [1, 2, 3, 5]\n",
        "print(remove_duplicate([7, 7, 8, 8, 8, 9]))# => [7, 8, 9]\n",
        "print(remove_duplicate([10, 10, 10, 10]))# => [10]\n",
        "print(remove_duplicate([1, 2, 2, 3, 4, 4, 4, 5]))# => [1, 2, 3, 4, 5]\n"
      ]
    },
    {
      "cell_type": "markdown",
      "metadata": {
        "id": "f9smt54DAyYU"
      },
      "source": [
        "3.\tกำหนดให้มี 2 list คือ lst1 และ lst2 ให้ค้นหาสมาชิกที่มีในทั้ง 2 list โดยใช้ list comprehension\n",
        "(ห้ามใช้ set) โดยให้เขียนเป็นฟังก์ชันชื่อ common_member(lst1, lst2) โดย return เป็น list ที่มีสมาชิกทั้ง 2 list\n",
        "- Input : lst1 = [1, 2, 4, 5, 6] lst2 = [2, 3, 4]\n",
        "- Output : [2, 4]\n"
      ]
    },
    {
      "cell_type": "code",
      "execution_count": null,
      "metadata": {
        "id": "3K2MCpiWA-tX"
      },
      "outputs": [],
      "source": [
        "def common_member(lst1, lst2):\n",
        "  res = [i for i in lst1 if i in lst2]\n",
        "  return res\n",
        "print(common_member([1, 2, 4, 5, 6], [2, 3, 4])) #=> [2, 4]\n",
        "print(common_member([1, 2, 3, 4, 5], [6, 7, 8])) #=> []\n",
        "print(common_member([1, 2, 3, 4, 5], [1, 2, 3, 4, 5])) #=> [1, 2, 3, 4, 5]\n",
        "print(common_member([1, 2, 3, 4, 5], [5, 4, 3, 2, 1])) #=> [1, 2, 3, 4, 5]\n",
        "print(common_member([1, 2, 3, 4, 5], [6, 7, 8, 9, 10])) #=> []\n"
      ]
    },
    {
      "cell_type": "markdown",
      "metadata": {
        "id": "V71CdsnEBWu8"
      },
      "source": [
        "4.\tกำหนดให้ s เป็น String ให้เขียนโปรแกรมโดยใช้ List comprehension โดยให้ตัดตัวอักษรภาษาอังกฤษที่เป็นสระ a, e, i, o, u ออกจากประโยคให้หมด เช่น\n",
        "\n",
        "- Input : “common_member” จะได้ Output เป็น “cmmn mmbr”\n",
        "\n"
      ]
    },
    {
      "cell_type": "code",
      "execution_count": 34,
      "metadata": {
        "id": "UNjxlDMqBcSz"
      },
      "outputs": [
        {
          "name": "stdout",
          "output_type": "stream",
          "text": [
            "cmmn mmbr\n",
            "hll wrld\n",
            "\n",
            "qwrtyp\n",
            "bcdfghjklmnpqrstvwxyz\n"
          ]
        }
      ],
      "source": [
        "# def remove_vowels(s):\n",
        "#   res = ''\n",
        "#   d = 'aeiou'\n",
        "#   for i in s:\n",
        "#     if i not in d:\n",
        "#       res +=  i\n",
        "  \n",
        "  \n",
        "  \n",
        "\n",
        "\n",
        "def remove_vowels(s):\n",
        "  text = 'aeiou'\n",
        "  res = [s[i] for i in range(len(s)) if s[i] not in text] # เราไม่เอา aeiou\n",
        "  \n",
        "  ''' เราเอาตัวอักษรพิเศษออก '''\n",
        "  for i in range(len(res)):\n",
        "    if not res[i].isalpha():\n",
        "      res[i] = ' ' \n",
        "\n",
        "  ''' เราเอา lst มาทำเป็น str '''\n",
        "  result = ''\n",
        "  for i in res:\n",
        "    result += i\n",
        "  return result\n",
        "\n",
        "print(remove_vowels(\"common_member\")) #=> \"cmmn mmbr\"\n",
        "print(remove_vowels(\"hello world\")) #=> \"hll wrld\"\n",
        "print(remove_vowels(\"aeiou\"))#=> \"\"\n",
        "print(remove_vowels(\"qwertyuiop\") )#=> \"qwrtyp\n",
        "print(remove_vowels(\"abcdefghijklmnopqrstuvwxyz\")) #=> \"bcdfghjklmnp"
      ]
    },
    {
      "cell_type": "markdown",
      "metadata": {
        "id": "Zo07ebrTBjgA"
      },
      "source": [
        "5.\tให้เขียนโปรแกรมรับ list ของจำนวนเต็มชุดหนึ่ง โดย list นี้จะมีสมาชิกพิเศษอยู่ที่ตัวสุดท้าย ซึ่งจะมีค่าเป็นลบเสมอ (สมาชิกตัวอื่นเป็นบวกหรือลบก็ได้) ให้สร้าง list ใหม่ที่เกิดจากสมาชิกทุกตัว (ยกเว้นตัวสุดท้าย) ลบด้วยสมาชิกตัวสุดท้าย\n",
        "- Input : [1, 10, 2, -5]\n",
        "- Output: [-4, 5, -3]\n",
        "- Input : [100, 0, -1]\n",
        "- Output: [99, -1]\n",
        "- Input : [3, -3]\n",
        "\n"
      ]
    },
    {
      "cell_type": "code",
      "execution_count": 1,
      "metadata": {
        "id": "cSSMJX5fBi8-"
      },
      "outputs": [
        {
          "name": "stdout",
          "output_type": "stream",
          "text": [
            "[-4, 5, -3]\n",
            "[99, -1]\n",
            "[0]\n"
          ]
        }
      ],
      "source": [
        "def remove_last_element(lst):\n",
        "  for i in range(len(lst)):\n",
        "    lst[i] = lst[i] + lst[-1]\n",
        "  lst.pop(-1) \n",
        "  return lst\n",
        "print(remove_last_element([1, 10, 2, -5])) #=> [-4, 5, -3]\n",
        "print(remove_last_element([100, 0, -1])) #=> [99, -1]\n",
        "print(remove_last_element([3, -3])) #=> [0]\n",
        "\n"
      ]
    },
    {
      "cell_type": "markdown",
      "metadata": {
        "id": "kguZ7w78CP0W"
      },
      "source": [
        "6.\tกำหนดให้ s เป็น String ให้เขียนโปรแกรมเพื่อหา คำ ที่มีความยาวน้อยกว่า 5 ตัวอักษร โดยใช้ list comprehension\n",
        "- Input : “A total of 16 playable characters!”\n",
        "- Output : “A total of 16”\n",
        "\n"
      ]
    },
    {
      "cell_type": "code",
      "execution_count": 2,
      "metadata": {
        "id": "IN6wcH_WCVJv"
      },
      "outputs": [
        {
          "name": "stdout",
          "output_type": "stream",
          "text": [
            "\"A of 16\"\n",
            "\"The fox over the lazy dog\"\n",
            "\"is a\"\n",
            "\"are kept and long are\"\n"
          ]
        }
      ],
      "source": [
        "def find_short_words(s):\n",
        "  s = s.split(' ')\n",
        "  res =[s[i] for i in range(len(s)) if len(s[i]) < 5]\n",
        "  res = '\"' + ' '.join(res) + '\"'\n",
        "  return res\n",
        "print(find_short_words(\"A total of 16 playable characters!\")) # => \"A total of 16\"\n",
        "print(find_short_words(\"The quick brown fox jumps over the lazy dog\")) #=> \"The fox over the dog\"\n",
        "print(find_short_words(\"Python is a great programming language\")) #=> \"is a\"\n",
        "print(find_short_words(\"Short words are kept short and long words are ignored\")) #=> \"are kept and are\"\n"
      ]
    },
    {
      "cell_type": "markdown",
      "metadata": {
        "id": "yioC3udBDK3M"
      },
      "source": [
        "7.\tให้เขียนโปรแกรมเพื่อคำนวณหา rank ของรหัสนักศึกษาที่กำหนด โดยให้เรียงตามคะแนน โดย rank = 1 คือ มีคะแนนสูงสุด โดยใช้ list comprehension\n",
        "กำหนดให้มีข้อมูล s_score มีตัวอย่างดังนี้\n",
        "\n",
        "s_score = [\t[‘65015001’, 87.25],\n",
        "\t\t[‘65015002’, 77.00],\n",
        "\t\t[‘65015003’, 82.50],\n",
        "\t\t[‘65015004’, 69.75],\n",
        "\t\t[‘65015005’, 66.00]  ]\n",
        "    \n",
        "ให้เขียนฟังก์ชัน find_rank( s_score, stu_id ) โดย s_score เป็น list ของคะแนน และ std_id เป็นรหัสนักศึกษาที่ต้องการหา rank\n",
        "เช่น find_rank ( s_score, ‘65015004’) จะ return 4 เพราะมีคะแนนเป็นอันดับ 4\n"
      ]
    },
    {
      "cell_type": "code",
      "execution_count": 3,
      "metadata": {
        "id": "72EkAIBjDTO_"
      },
      "outputs": [
        {
          "name": "stdout",
          "output_type": "stream",
          "text": [
            "4\n",
            "3\n",
            "1\n",
            "1\n",
            "3\n"
          ]
        }
      ],
      "source": [
        "def find_rank(s_score, stu_id):\n",
        "  score = 0\n",
        "  rank = 1\n",
        "  all_score = []\n",
        "  for i,e in enumerate(s_score):\n",
        "    for j in range(1,len(e)):\n",
        "      all_score.append(e[j])\n",
        "    all_score.sort()\n",
        "    if e[0] == stu_id:\n",
        "      score += e[1]\n",
        "  for k in all_score:\n",
        "    if score >= k:\n",
        "      rank = rank\n",
        "    else:\n",
        "      rank += 1\n",
        "  return rank\n",
        "\n",
        "s_score = [['65015001', 87.25], ['65015002', 77.00], ['65015003', 82.50], ['65015004', 69.75], ['65015005', 66.00]]\n",
        "print(find_rank(s_score, '65015004'))  # Output: 4\n",
        "\n",
        "# Test Case 2\n",
        "s_score = [['65015001', 90.00], ['65015002', 80.00], ['65015003', 85.00], ['65015004', 70.00], ['65015005', 60.00]]\n",
        "print(find_rank(s_score, '65015002'))  # Output: 3\n",
        "\n",
        "# Test Case 3\n",
        "s_score = [['65015001', 95.00], ['65015002', 95.00], ['65015003', 90.00], ['65015004', 85.00], ['65015005', 80.00]]\n",
        "print(find_rank(s_score, '65015001'))  # Output: 1\n",
        "\n",
        "# Test Case 4\n",
        "s_score = [['65015001', 50.00], ['65015002', 60.00], ['65015003', 70.00], ['65015004', 80.00], ['65015005', 90.00]]\n",
        "print(find_rank(s_score, '65015005'))  # Output: 1\n",
        "\n",
        "# Test Case 5\n",
        "s_score = [['65015001', 55.00], ['65015002', 65.00], ['65015003', 75.00], ['65015004', 85.00], ['65015005', 95.00]]\n",
        "print(find_rank(s_score, '65015003'))  # Output: 3\n",
        "\n"
      ]
    },
    {
      "cell_type": "markdown",
      "metadata": {
        "id": "oJGkdpmfEH2e"
      },
      "source": [
        "8.\tให้เขียนโปรแกรม เพื่อหาข้อมูลที่มีความถี่มากกว่าครึ่งหนึ่งของจำนวนข้อมูลที่รับเข้ามา แต่ถ้าไม่พบให้แสดง Not found โดยใช้ list comprehension\n",
        "\n",
        "- เช่น \t[4, 5, 5, 10] ได้ผลลัพธ์เป็น Not found\n",
        "-\t[4, 5, 5] ได้ผลลัพธ์เป็น 5\n",
        "-\t[10, 5, 5, 3, 5] ได้ผลลัพธ์เป็น 5\n",
        "-\t[2, 4, 2, 4, 2, 4] ได้ผลลัพธ์เป็น Not found\n",
        "\n",
        "ให้เขียนเป็นฟังก์ชัน ชื่อ more_than_half(n_list) โดย n_list เป็นข้อมูลนำเข้า และ return เป็นผลลัพธ์ หรือ Not found\n"
      ]
    },
    {
      "cell_type": "code",
      "execution_count": 26,
      "metadata": {
        "id": "ahXL6sfbEQUQ"
      },
      "outputs": [
        {
          "name": "stdout",
          "output_type": "stream",
          "text": [
            "Not found\n",
            "5\n",
            "5\n",
            "Not found\n"
          ]
        }
      ],
      "source": [
        "def more_than_half(n_list):\n",
        "  res = [i for i in n_list if n_list.count(i) > len(n_list) / 2]\n",
        "  #print(res)\n",
        "  if len(res) >  0:\n",
        "    return res[0]\n",
        "  else:\n",
        "    return 'Not found'\n",
        "  # res = [i if n_list.count(i) > len(n_list) / 2 else 'Not Found' for i in n_list]\n",
        "  # return res\n",
        "  \n",
        "print(more_than_half([4, 5, 5, 10])) #=> \"Not found\"\n",
        "print(more_than_half([4, 5, 5])) #=> 5\n",
        "print(more_than_half([10, 5, 5, 3, 5])) #=> 5\n",
        "print(more_than_half([2, 4, 2, 4, 2, 4])) #=> \"Not found\"\n"
      ]
    },
    {
      "cell_type": "markdown",
      "metadata": {
        "id": "0oTFJs2PEkL5"
      },
      "source": [
        "9.\tจงเขียนโปรแกรมในแบบ recursion เพื่อกลับ String เช่น\n",
        "- Input : 'desserts'\n",
        "- Output : 'stressed'\n"
      ]
    },
    {
      "cell_type": "code",
      "execution_count": 44,
      "metadata": {
        "id": "_h5KwR9WEo7e"
      },
      "outputs": [
        {
          "data": {
            "text/plain": [
              "'stressed'"
            ]
          },
          "execution_count": 44,
          "metadata": {},
          "output_type": "execute_result"
        }
      ],
      "source": [
        "words = 'desserts'\n",
        "\n",
        "def reverse_words(words, word = ''):\n",
        "    if len(words) == 0:\n",
        "        return word\n",
        "    else:\n",
        "        word += words[-1]\n",
        "        words = words[:-1]\n",
        "        return reverse_words(words, word)\n",
        "  \n",
        "reverse_words(words)"
      ]
    },
    {
      "cell_type": "code",
      "execution_count": 45,
      "metadata": {},
      "outputs": [
        {
          "name": "stdout",
          "output_type": "stream",
          "text": [
            "[1, 2, 3, 4]\n"
          ]
        }
      ],
      "source": [
        "lst = [1,2,3] + [4]\n",
        "\n",
        "print(lst)"
      ]
    }
  ],
  "metadata": {
    "colab": {
      "include_colab_link": true,
      "provenance": []
    },
    "kernelspec": {
      "display_name": "Python 3",
      "name": "python3"
    },
    "language_info": {
      "codemirror_mode": {
        "name": "ipython",
        "version": 3
      },
      "file_extension": ".py",
      "mimetype": "text/x-python",
      "name": "python",
      "nbconvert_exporter": "python",
      "pygments_lexer": "ipython3",
      "version": "3.12.7"
    }
  },
  "nbformat": 4,
  "nbformat_minor": 0
}
