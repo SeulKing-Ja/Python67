{
  "cells": [
    {
      "cell_type": "markdown",
      "metadata": {
        "colab_type": "text",
        "id": "view-in-github"
      },
      "source": [
        "<a href=\"https://colab.research.google.com/github/SeulKing-Ja/Python67/blob/main/Lab_7.ipynb\" target=\"_parent\"><img src=\"https://colab.research.google.com/assets/colab-badge.svg\" alt=\"Open In Colab\"/></a>"
      ]
    },
    {
      "cell_type": "markdown",
      "metadata": {
        "id": "UXzLtjMa17TG"
      },
      "source": [
        "รหัสนักศึกษา : 67015022    ชื่อ : นายจารุเดช พนาลัย"
      ]
    },
    {
      "cell_type": "markdown",
      "metadata": {
        "id": "os9RES5T2DNP"
      },
      "source": [
        "1.\tเขียนฟังก์ชัน add_score(subject_score, subject, score) โดยมีพารามิเตอร์ 3 ตัว ได้แก่ subject_score เป็น dictionary ที่มีคู่ key : value เป็น subject : score พารามิเตอร์ตัวที่ 2 และ 3 เป็น subject และ score โดย subject เป็น string และ score เป็น integer โดยให้นำ subject และ score ไปเพิ่มใน dictionary เช่น\n",
        "\n",
        "-Input : subject_score = { }, subject = ‘python’, score = 50\n",
        "-return : { ‘python’ : 50 }\n",
        "-input : subject_score = { ‘python’ : 50 }, subject = ‘calculus’, score = 60\n",
        "-return : { ‘python’ : 50, ‘calculus : 60 }\n",
        "\n",
        "\n",
        "จากนั้นให้เขียนฟังก์ชัน calc_average_score หาค่าเฉลี่ยของคะแนนในทุกรายวิชาใน dictionary ที่ได้จากฟังก์ชัน add_score โดยให้ส่งค่าคืนมาเป็น string ที่มีทศนิยม 2 ตำแหน่ง\n"
      ]
    },
    {
      "cell_type": "code",
      "execution_count": 8,
      "metadata": {
        "id": "LZGVVZVj3hLN"
      },
      "outputs": [
        {
          "name": "stdout",
          "output_type": "stream",
          "text": [
            "{'python': 50, 'calculus': 60}\n"
          ]
        },
        {
          "data": {
            "text/plain": [
              "55.0"
            ]
          },
          "execution_count": 8,
          "metadata": {},
          "output_type": "execute_result"
        }
      ],
      "source": [
        "\n",
        "def add_score(subject_score, subject, score):\n",
        "  subject_score[subject] = score\n",
        "  return subject_score    \n",
        "\n",
        "dict = {}\n",
        "add_score(dict, 'python', 50) # => {'python' : 50}\n",
        "add_score(dict, 'calculus', 60) # => {'python' : 50, 'calculus' : 60}\n",
        "print(dict)\n",
        "\n",
        "def calc_average_score(subject_score):\n",
        "  res = 0\n",
        "  for i in subject_score:\n",
        "    res += subject_score[i]\n",
        "  res = res / len(subject_score)\n",
        "  return res\n",
        "\n",
        "calc_average_score(dict)\n",
        "calc_average_score({ 'python' : 50, 'calculus' : 60 }) #=> '55.00'"
      ]
    },
    {
      "cell_type": "markdown",
      "metadata": {
        "id": "5JcSUIBA4IDY"
      },
      "source": [
        "2.\tให้นำโปรแกรมตามข้อ 1 มาขยายความสามารถให้รองรับนักศึกษาหลายคน โดยให้ refactor ฟังก์ชัน add_score ให้รับพารามิเตอร์เป็น add_score(subject_score, student, subject, score) โดย student เป็นข้อมูลของนักศึกษาเป็น string (ในที่นี้เป็น id) และ return เป็น dictionary\n",
        "\n",
        "- Input : subject_score = { }, student = '65010001', subject = 'python', score = 50\n",
        "- return : { '65010001' : { 'python' : 50 } }\n",
        "- input : subject_score = { '65010001' : { 'python' : 50 } },\n",
        "  student = '65010001', subject = ‘calculus’, score = 60\n",
        "- return : {'65010001': {'python’: 50,  'calculus', 60} }\n",
        "\n",
        "โดยหากชื่อมีข้อมูล key ใดที่มีใน dictionary อยู่แล้ว ให้ถือเป็นการ update ข้อมูลนั้น\n",
        "\n",
        "ให้ refactor ฟังก์ชัน calc_average_score โดยให้ส่งคืนเป็น dictionary ของนักศึกษาและคะแนนเฉลี่ยของนักศึกษาคนนั้น เช่น {'65010001': '55.00' }\n"
      ]
    },
    {
      "cell_type": "code",
      "execution_count": 9,
      "metadata": {
        "id": "QmJLbNje10SA"
      },
      "outputs": [
        {
          "data": {
            "text/plain": [
              "{'65010001': '55.00'}"
            ]
          },
          "execution_count": 9,
          "metadata": {},
          "output_type": "execute_result"
        }
      ],
      "source": [
        "def add_score(subject_score, student, subject, score):\n",
        "  add = {subject.lower():score}\n",
        "  if student not in subject_score.keys():\n",
        "    subject_score[student] = add\n",
        "  else:\n",
        "    subject_score[student].update(add)\n",
        "  return subject_score\n",
        "\n",
        "dict = {}\n",
        "add_score(dict, '65010001', 'python', 50) # => {'65010001' : { 'python' : 50 } }\n",
        "add_score(dict, '65010001', 'calculus', 60) # => {'65010001' : { 'python' : 50, 'calculus' : 60 }\n",
        "#print(dict)\n",
        "\n",
        "def calc_average_score(subject_score):\n",
        "  for k,v in subject_score.items():\n",
        "    res = sum(v.values()) / len(v)\n",
        "  new = {k : '%.2f' % res}\n",
        "  return new\n",
        "\n",
        "calc_average_score(dict) # => {'65010001': '55.00' }\n"
      ]
    },
    {
      "cell_type": "markdown",
      "metadata": {
        "id": "Fv6l6uwo6Pki"
      },
      "source": [
        "3.\tให้เขียนฟังก์ชัน is_plusone_dictionary(d) โดยรับพารามิเตอร์ 1 ตัว เป็นข้อมูลชนิด dictionary และให้ทดสอบว่า dictionary ที่รับเข้ามาเป็น plusone dictionary หรือไม่ ผลลัพธ์ให้ return เป็น True หรือ False โดย plusone dictionary คือ dictionary ที่ key และ value จะบวก 1 ต่อกันไปเรื่อยๆ  \n",
        "\n",
        "- Input :   {1:2, 3:4, 5:6, 7:8}\n",
        "- return : True\n",
        "\n",
        "อธิบาย : เพราะ key : value ต่างกันเป็น +1 ต่อกันไป\n",
        "- Input :   {1:2, 3:10, 5:6, 7:8}\n",
        "- return : False\n",
        "\n",
        "อธิบาย : เพราะ key, value ไม่เป็นไปตามลำดับ\n"
      ]
    },
    {
      "cell_type": "code",
      "execution_count": 11,
      "metadata": {
        "id": "-yCKWw876aQs"
      },
      "outputs": [
        {
          "name": "stdout",
          "output_type": "stream",
          "text": [
            "True\n",
            "False\n"
          ]
        }
      ],
      "source": [
        "def is_plusone_dictionary(d):\n",
        "  res = 0\n",
        "  for k,v in d.items():\n",
        "    res += (v-k)\n",
        "  if res % len(d) == 0:\n",
        "    return True\n",
        "  else:\n",
        "    return False\n",
        "  \n",
        "print(is_plusone_dictionary({1:2, 3:4, 5:6, 7:8})) # => True\n",
        "print(is_plusone_dictionary({1:2, 3:10, 5:6, 7:8})) # => False\n",
        "\n"
      ]
    },
    {
      "cell_type": "markdown",
      "metadata": {
        "id": "zxO80QGx6mnk"
      },
      "source": [
        "4.\tเขียนฟังก์ชัน char_count(str) โดยรับพารามิเตอร์ 1 ตัว เป็นข้อมูลชนิด string และให้ส่งคืนเป็น dictionary ที่มี key เป็นตัวอักษรแต่ละตัวของ string นั้น และ value คือ จำนวนครั้งที่ตัวอักษรนั้นปรากฏใน string เช่น\n",
        "\n",
        "- Input : 'language'\n",
        "- return : {'l': 1, 'a': 2, 'n': 1, 'g': 2, 'e': 1}\n"
      ]
    },
    {
      "cell_type": "code",
      "execution_count": 13,
      "metadata": {
        "id": "PEu6wF5Y6rAE"
      },
      "outputs": [
        {
          "name": "stdout",
          "output_type": "stream",
          "text": [
            "{'l': 1, 'a': 2, 'n': 1, 'g': 2, 'u': 1, 'e': 1}\n",
            "{'a': 1, 'w': 1, 'e': 2, 's': 1, 'o': 1, 'm': 1}\n",
            "{'m': 1, 'e': 1}\n"
          ]
        }
      ],
      "source": [
        "def char_count(str):\n",
        "  res = {}\n",
        "  for i in str:\n",
        "    if i not in res:\n",
        "      res[i] = str.count(i)\n",
        "  return res\n",
        "\n",
        "print(char_count('language')) # => {'l': 1, 'a': 2, 'n': 1, 'g': 2, 'e': 1}\n",
        "print(char_count('awesome')) # => {'a': 1, 'e': 2, 'm': 1, 'o': 1, 'w': 1}\n",
        "print(char_count('me')) # => {'m': 1, 'e': 1}"
      ]
    },
    {
      "cell_type": "markdown",
      "metadata": {
        "id": "2YPYGtFG6v2j"
      },
      "source": [
        "5.\tข้อมูลต่อไปนี้แทน music album แต่ละ album เก็บใน dictionary ซึ่งมีตัวเลข id เป็น key โดยแต่ละ album ไม่จำเป็นต้องมีข้อมูลครบ\n",
        "\n",
        "\n",
        "\n",
        "```\n",
        "record_collection = {\n",
        "  2548: {\n",
        "    albumTitle: 'Slippery When Wet',\n",
        "    artist: 'Bon Jovi',\n",
        "    tracks: ['Let It Rock', 'You Give Love a Bad Name']\n",
        "  },\n",
        "  2468: {\n",
        "    albumTitle: '1999',\n",
        "    artist: 'Prince',\n",
        "    tracks: ['1999', 'Little Red Corvette']\n",
        "  },\n",
        "  1245: {\n",
        "    artist: 'Robert Palmer',\n",
        "    tracks: []\n",
        "  },\n",
        "  5439: {\n",
        "    albumTitle: 'ABBA Gold'\n",
        "  }\n",
        "```\n",
        "\n",
        "\n",
        "\n",
        "ให้เขียนฟังก์ชัน update_records โดยรับพารามิเตอร์ 4 ตัว คือ 1) dictionary record 2) id 3) property (เช่น artist หรือ tracks 4) value โดยหน้าที่ของฟังก์ชัน คือ ให้เพิ่ม/เปลี่ยน ค่า property และ value ของ album ของ id ที่ส่งค่าไปในฟังก์ชัน โดยมีรายละเอียดดังนี้\n",
        "- ฟังก์ชันจะต้องส่งคืนข้อมูล record ทั้งหมดกลับมา\n",
        "- ถ้า property ไม่ใช่ tracks และ value ไม่ใช่ empty string ให้ update หรือ set ข้อมูล property กับ value ใน album นั้น\n",
        "- ถ้า property เป็น tracks แต่ album นั้นไม่มี tracks property ให้สร้าง List ใหม่และเพิ่มข้อมูลเข้าไปใน List นั้น\n",
        "- ถ้า property เป็น tracks และ value ไม่ใช่  empty string ให้เพิ่ม value ต่อท้ายใน List ของ tracks  \n",
        "- ถ้า value เป็น empty string ให้ลบข้อมูล property นั้นออกจาก album\n",
        "\n",
        "\n"
      ]
    },
    {
      "cell_type": "code",
      "execution_count": 16,
      "metadata": {
        "id": "Q9T-P4hs8cqJ"
      },
      "outputs": [
        {
          "name": "stdout",
          "output_type": "stream",
          "text": [
            "{2548: {'albumTitle': 'Slippery When Wet', 'artist': 'Sting'}, 2468: {'albumTitle': '1999', 'artist': 'Prince', 'tracks': ['1999', 'Little Red Corvette']}, 1245: {'artist': 'Robert Palmer', 'tracks': ['Addicted to Love']}, 5439: {'tracks': 'I Put a Spell on You', 'artist': 'Chicago'}}\n"
          ]
        }
      ],
      "source": [
        "record_collection = {\n",
        "  2548: {\n",
        "    'albumTitle': 'Slippery When Wet',\n",
        "    'artist': 'Bon Jovi',\n",
        "    'tracks': ['Let It Rock', 'You Give Love a Bad Name']\n",
        "  },\n",
        "  2468: {\n",
        "    'albumTitle': '1999',\n",
        "    'artist': 'Prince',\n",
        "    'tracks': ['1999', 'Little Red Corvette']\n",
        "  },\n",
        "  1245: {\n",
        "    'artist': 'Robert Palmer',\n",
        "    'tracks': []\n",
        "  },\n",
        "  5439: {\n",
        "    'albumTitle': 'ABBA Gold'\n",
        "  }\n",
        "}\n",
        "\n",
        "def update_records(record, id, propertys, value):\n",
        "  if propertys not in record[id] or propertys == 'artist' or propertys == 'albumTitle':\n",
        "    if len(value) == 0:\n",
        "      record[id].pop(propertys)\n",
        "    else:\n",
        "      record[id][propertys] = value\n",
        "  else:\n",
        "    if len(value) == 0:\n",
        "      record[id].pop(propertys)\n",
        "    else:\n",
        "      if value == list(value):\n",
        "        for i in value:\n",
        "          record[id][propertys].append(i)\n",
        "      else:\n",
        "        record[id][propertys].append(value)\n",
        "  return record\n",
        "update_records(record_collection, 2548, 'artist', '') # ลบ artist ของ 2548\n",
        "update_records(record_collection, 2548, 'artist', 'Sting') # แก้ไข artist ของ 2548\n",
        "update_records(record_collection, 2548, 'tracks', 'wanted dead or alive') # เพิ่ม tracks ของ 1245\n",
        "update_records(record_collection, 2548, 'tracks', '') # ลบ tracks ของ 1245\n",
        "update_records(record_collection, 5439, 'tracks', 'I Put a Spell on You') # เพิ่ม tracks ของ 5439\n",
        "update_records(record_collection, 5439, 'artist', 'ABBA') # เพิ่ม artist ของ 5439\n",
        "update_records(record_collection, 5439, 'artist', 'Chicago') # แก้ไข artist ของ 5439\n",
        "update_records(record_collection, 1245, 'tracks', 'Addicted to Love') # เพิ่ม tracks ของ 1245\n",
        "update_records(record_collection, 5439, 'albumTitle', '') # ลบ albumTitle ของ 5439\n",
        "\n",
        "print(record_collection)\n",
        "\n"
      ]
    },
    {
      "cell_type": "markdown",
      "metadata": {},
      "source": [
        "ให้เขียนโปรแกรม หาขนาดไฟล์แต่ละไฟล์และขนาดไฟล์รวมใน directory https://github.com/khthana/Python67/blob/main/thai-handwritten-dataset.zip"
      ]
    },
    {
      "cell_type": "code",
      "execution_count": 36,
      "metadata": {},
      "outputs": [
        {
          "name": "stderr",
          "output_type": "stream",
          "text": [
            "'unzip' is not recognized as an internal or external command,\n",
            "operable program or batch file.\n"
          ]
        }
      ],
      "source": [
        "!unzip Lab7_thai_handwritten/thai-handwritten-dataset.zip -d /dataset"
      ]
    },
    {
      "cell_type": "code",
      "execution_count": 35,
      "metadata": {},
      "outputs": [
        {
          "data": {
            "text/plain": [
              "['thai-handwritten-dataset.zip']"
            ]
          },
          "execution_count": 35,
          "metadata": {},
          "output_type": "execute_result"
        }
      ],
      "source": [
        "import os\n",
        "from pathlib import Path\n",
        "\n",
        "path = Path(r'C:\\Users\\jarud\\OneDrive\\Github\\Python67\\Lab7_thai_handwritten')\n",
        "os.listdir(path)\n"
      ]
    }
  ],
  "metadata": {
    "colab": {
      "include_colab_link": true,
      "provenance": []
    },
    "kernelspec": {
      "display_name": "Python 3",
      "name": "python3"
    },
    "language_info": {
      "codemirror_mode": {
        "name": "ipython",
        "version": 3
      },
      "file_extension": ".py",
      "mimetype": "text/x-python",
      "name": "python",
      "nbconvert_exporter": "python",
      "pygments_lexer": "ipython3",
      "version": "3.9.13"
    }
  },
  "nbformat": 4,
  "nbformat_minor": 0
}
